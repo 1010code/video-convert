{
 "cells": [
  {
   "cell_type": "markdown",
   "metadata": {},
   "source": [
    "## 兩種影像編碼方式\n",
    "由於 cv2 在讀某些檔案會偵測不到正確 FPS，因此可以使用 imageio 解決。"
   ]
  },
  {
   "cell_type": "markdown",
   "metadata": {},
   "source": [
    "### 方法一: 採用 cv2 讀取影像\n",
    "- 編碼方式: MPEG-4 Video\n",
    "- mp4 檔"
   ]
  },
  {
   "cell_type": "code",
   "execution_count": 29,
   "metadata": {},
   "outputs": [
    {
     "name": "stdout",
     "output_type": "stream",
     "text": [
      "output.mp4 1145656920 25 (320, 176)\n",
      "Video processing complete\n",
      "CPU times: user 225 ms, sys: 17.6 ms, total: 243 ms\n",
      "Wall time: 162 ms\n"
     ]
    }
   ],
   "source": [
    "%%time\n",
    "import time\n",
    "import cv2\n",
    "from PIL import Image\n",
    "import numpy as np\n",
    "\n",
    "ARGS_VIDEO='./data/demo.mp4' # 'path to input image'\n",
    "ARGS_OUTPUT_FORMAT='mp4v'\n",
    "ARGS_OUTPUT='output.mp4' # 'path to output image'\n",
    "ARGS_PREVIEW=False\n",
    "\n",
    "video_path = ARGS_VIDEO\n",
    "\n",
    "vid = cv2.VideoCapture(video_path)\n",
    "\n",
    "if ARGS_OUTPUT:\n",
    "    # by default VideoCapture returns float instead of int\n",
    "    width = int(vid.get(cv2.CAP_PROP_FRAME_WIDTH))\n",
    "    height = int(vid.get(cv2.CAP_PROP_FRAME_HEIGHT))\n",
    "    fps = int(vid.get(cv2.CAP_PROP_FPS))\n",
    "    codec = cv2.VideoWriter_fourcc(*ARGS_OUTPUT_FORMAT)\n",
    "    out = cv2.VideoWriter(ARGS_OUTPUT, codec, fps, (width, height))\n",
    "    print(ARGS_OUTPUT, codec, fps, (width, height))\n",
    "\n",
    "frame_id = 0\n",
    "while True:\n",
    "    return_value, frame = vid.read()\n",
    "    if return_value:\n",
    "        image = cv2.cvtColor(frame, cv2.COLOR_BGR2RGB)\n",
    "    else:\n",
    "        print(\"Video processing complete\")\n",
    "        break\n",
    "    result = cv2.cvtColor(image, cv2.COLOR_RGB2BGR)\n",
    "\n",
    "    if ARGS_OUTPUT:\n",
    "        result = cv2.resize(result, (width, height), interpolation=cv2.INTER_AREA) # resize image\n",
    "        result = np.asarray(result)\n",
    "        out.write(result)\n",
    "        \n",
    "    frame_id += 1\n",
    "out.release() "
   ]
  },
  {
   "cell_type": "markdown",
   "metadata": {},
   "source": [
    "### 方法二: 採用 imageio 讀取影像\n",
    "- 編碼方式: H.264\n",
    "- mp4 檔"
   ]
  },
  {
   "cell_type": "code",
   "execution_count": 2,
   "metadata": {},
   "outputs": [
    {
     "name": "stdout",
     "output_type": "stream",
     "text": [
      "video info: {'plugin': 'ffmpeg', 'nframes': inf, 'ffmpeg_version': '4.2.2-static https://johnvansickle.com/ffmpeg/ built with gcc 8 (Debian 8.3.0-6)', 'codec': 'h264', 'pix_fmt': 'yuv420p(tv', 'audio_codec': 'aac', 'fps': 25.0, 'source_size': (320, 176), 'size': (320, 176), 'rotate': 0, 'duration': 10.03}\n",
      "CPU times: user 632 ms, sys: 699 ms, total: 1.33 s\n",
      "Wall time: 406 ms\n"
     ]
    }
   ],
   "source": [
    "%%time\n",
    "import imageio\n",
    "# load video\n",
    "reader = imageio.get_reader('./data/demo.mp4')\n",
    "# get video fps\n",
    "fps = reader.get_meta_data()['fps']\n",
    "writer = imageio.get_writer('./output.mp4', fps=fps)\n",
    "\n",
    "print(f'video info: {reader.get_meta_data()}')\n",
    "for img in reader:\n",
    "    writer.append_data(img)\n",
    "writer.close()"
   ]
  },
  {
   "cell_type": "markdown",
   "metadata": {},
   "source": [
    "### 查看影片"
   ]
  },
  {
   "cell_type": "code",
   "execution_count": 3,
   "metadata": {},
   "outputs": [
    {
     "data": {
      "text/html": [
       "<video src=\"./output.mp4\" controls  >\n",
       "      Your browser does not support the <code>video</code> element.\n",
       "    </video>"
      ],
      "text/plain": [
       "<IPython.core.display.Video object>"
      ]
     },
     "execution_count": 3,
     "metadata": {},
     "output_type": "execute_result"
    }
   ],
   "source": [
    "from IPython.display import Video\n",
    "\n",
    "Video(\"./output.mp4\")"
   ]
  },
  {
   "cell_type": "code",
   "execution_count": null,
   "metadata": {},
   "outputs": [],
   "source": []
  }
 ],
 "metadata": {
  "kernelspec": {
   "display_name": "Python 3",
   "language": "python",
   "name": "python3"
  },
  "language_info": {
   "codemirror_mode": {
    "name": "ipython",
    "version": 3
   },
   "file_extension": ".py",
   "mimetype": "text/x-python",
   "name": "python",
   "nbconvert_exporter": "python",
   "pygments_lexer": "ipython3",
   "version": "3.7.3"
  }
 },
 "nbformat": 4,
 "nbformat_minor": 4
}
